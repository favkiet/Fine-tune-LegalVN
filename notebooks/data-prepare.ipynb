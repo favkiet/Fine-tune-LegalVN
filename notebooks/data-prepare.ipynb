{
 "cells": [
  {
   "cell_type": "code",
   "execution_count": 1,
   "metadata": {},
   "outputs": [
    {
     "name": "stderr",
     "output_type": "stream",
     "text": [
      "/Users/huynhanhkiet/Desktop/Fine-tune-LegalVN/.venv/lib/python3.10/site-packages/tqdm/auto.py:21: TqdmWarning: IProgress not found. Please update jupyter and ipywidgets. See https://ipywidgets.readthedocs.io/en/stable/user_install.html\n",
      "  from .autonotebook import tqdm as notebook_tqdm\n"
     ]
    }
   ],
   "source": [
    "import pandas as pd\n",
    "import datasets"
   ]
  },
  {
   "cell_type": "code",
   "execution_count": 2,
   "metadata": {},
   "outputs": [
    {
     "data": {
      "text/html": [
       "<div>\n",
       "<style scoped>\n",
       "    .dataframe tbody tr th:only-of-type {\n",
       "        vertical-align: middle;\n",
       "    }\n",
       "\n",
       "    .dataframe tbody tr th {\n",
       "        vertical-align: top;\n",
       "    }\n",
       "\n",
       "    .dataframe thead th {\n",
       "        text-align: right;\n",
       "    }\n",
       "</style>\n",
       "<table border=\"1\" class=\"dataframe\">\n",
       "  <thead>\n",
       "    <tr style=\"text-align: right;\">\n",
       "      <th></th>\n",
       "      <th>url</th>\n",
       "      <th>question</th>\n",
       "      <th>answer</th>\n",
       "    </tr>\n",
       "  </thead>\n",
       "  <tbody>\n",
       "    <tr>\n",
       "      <th>0</th>\n",
       "      <td>https://thuvienphapluat.vn/hoi-dap-phap-luat/8...</td>\n",
       "      <td>Toàn văn Công điện 99 CĐ TTg 2025 bảo đảm thực...</td>\n",
       "      <td>Ngày 27/06/2025, Thủ tướng Chính phủ đã ký Côn...</td>\n",
       "    </tr>\n",
       "    <tr>\n",
       "      <th>1</th>\n",
       "      <td>https://thuvienphapluat.vn/hoi-dap-phap-luat/8...</td>\n",
       "      <td>Tổ chức chính quyền địa phương khi nhập các đơ...</td>\n",
       "      <td>Căn cứ theo Điều 44 Luật Tổ chức chính quyền đ...</td>\n",
       "    </tr>\n",
       "    <tr>\n",
       "      <th>2</th>\n",
       "      <td>https://thuvienphapluat.vn/hoi-dap-phap-luat/8...</td>\n",
       "      <td>Khóa của Hội đồng nhân dân ở đơn vị hành chính...</td>\n",
       "      <td>Căn cứ theo khoản 1 Điều 49 Luật Tổ chức chính...</td>\n",
       "    </tr>\n",
       "    <tr>\n",
       "      <th>3</th>\n",
       "      <td>https://thuvienphapluat.vn/hoi-dap-phap-luat/8...</td>\n",
       "      <td>Đối tượng điều tra thống kê tiền tệ và ngân hà...</td>\n",
       "      <td>Căn cứ theo khoản 6 Điều 3 Thông tư 26/2018/TT...</td>\n",
       "    </tr>\n",
       "    <tr>\n",
       "      <th>4</th>\n",
       "      <td>https://thuvienphapluat.vn/hoi-dap-phap-luat/8...</td>\n",
       "      <td>Kiểm tra việc cung cấp thông tin của đối tượng...</td>\n",
       "      <td>Căn cứ theo khoản 6 Điều 14 Thông tư 26/2018/T...</td>\n",
       "    </tr>\n",
       "    <tr>\n",
       "      <th>5</th>\n",
       "      <td>https://thuvienphapluat.vn/hoi-dap-phap-luat/8...</td>\n",
       "      <td>Nguyên tắc của hoạt động điều tra thống kê tiề...</td>\n",
       "      <td>Căn cứ theo Điều 4 Thông tư 26/2018/TT-NHNN có...</td>\n",
       "    </tr>\n",
       "    <tr>\n",
       "      <th>6</th>\n",
       "      <td>https://thuvienphapluat.vn/hoi-dap-phap-luat/8...</td>\n",
       "      <td>Điều tra thống kê tiền tệ và ngân hàng ngoài t...</td>\n",
       "      <td>Căn cứ theo khoản 3 Điều 3 Thông tư 26/2018/TT...</td>\n",
       "    </tr>\n",
       "    <tr>\n",
       "      <th>7</th>\n",
       "      <td>https://thuvienphapluat.vn/hoi-dap-phap-luat/8...</td>\n",
       "      <td>Khi công bố kết quả điều tra thống kê tiền tệ ...</td>\n",
       "      <td>Căn cứ theo khoản 4 Điều 17 Thông tư 26/2018/T...</td>\n",
       "    </tr>\n",
       "    <tr>\n",
       "      <th>8</th>\n",
       "      <td>https://thuvienphapluat.vn/hoi-dap-phap-luat/8...</td>\n",
       "      <td>Các hành vi bị nghiêm cấm trong hoạt động thốn...</td>\n",
       "      <td>Căn cứ theo Điều 10 Luật Thống kê 2015 thì các...</td>\n",
       "    </tr>\n",
       "    <tr>\n",
       "      <th>9</th>\n",
       "      <td>https://thuvienphapluat.vn/hoi-dap-phap-luat/8...</td>\n",
       "      <td>TOÀN VĂN Thông tư 22 2025 TT BNNMT sửa đổi các...</td>\n",
       "      <td>Ngày 19/06/2025, Bộ trưởng Bộ Nông nghiệp và M...</td>\n",
       "    </tr>\n",
       "  </tbody>\n",
       "</table>\n",
       "</div>"
      ],
      "text/plain": [
       "                                                 url  \\\n",
       "0  https://thuvienphapluat.vn/hoi-dap-phap-luat/8...   \n",
       "1  https://thuvienphapluat.vn/hoi-dap-phap-luat/8...   \n",
       "2  https://thuvienphapluat.vn/hoi-dap-phap-luat/8...   \n",
       "3  https://thuvienphapluat.vn/hoi-dap-phap-luat/8...   \n",
       "4  https://thuvienphapluat.vn/hoi-dap-phap-luat/8...   \n",
       "5  https://thuvienphapluat.vn/hoi-dap-phap-luat/8...   \n",
       "6  https://thuvienphapluat.vn/hoi-dap-phap-luat/8...   \n",
       "7  https://thuvienphapluat.vn/hoi-dap-phap-luat/8...   \n",
       "8  https://thuvienphapluat.vn/hoi-dap-phap-luat/8...   \n",
       "9  https://thuvienphapluat.vn/hoi-dap-phap-luat/8...   \n",
       "\n",
       "                                            question  \\\n",
       "0  Toàn văn Công điện 99 CĐ TTg 2025 bảo đảm thực...   \n",
       "1  Tổ chức chính quyền địa phương khi nhập các đơ...   \n",
       "2  Khóa của Hội đồng nhân dân ở đơn vị hành chính...   \n",
       "3  Đối tượng điều tra thống kê tiền tệ và ngân hà...   \n",
       "4  Kiểm tra việc cung cấp thông tin của đối tượng...   \n",
       "5  Nguyên tắc của hoạt động điều tra thống kê tiề...   \n",
       "6  Điều tra thống kê tiền tệ và ngân hàng ngoài t...   \n",
       "7  Khi công bố kết quả điều tra thống kê tiền tệ ...   \n",
       "8  Các hành vi bị nghiêm cấm trong hoạt động thốn...   \n",
       "9  TOÀN VĂN Thông tư 22 2025 TT BNNMT sửa đổi các...   \n",
       "\n",
       "                                              answer  \n",
       "0  Ngày 27/06/2025, Thủ tướng Chính phủ đã ký Côn...  \n",
       "1  Căn cứ theo Điều 44 Luật Tổ chức chính quyền đ...  \n",
       "2  Căn cứ theo khoản 1 Điều 49 Luật Tổ chức chính...  \n",
       "3  Căn cứ theo khoản 6 Điều 3 Thông tư 26/2018/TT...  \n",
       "4  Căn cứ theo khoản 6 Điều 14 Thông tư 26/2018/T...  \n",
       "5  Căn cứ theo Điều 4 Thông tư 26/2018/TT-NHNN có...  \n",
       "6  Căn cứ theo khoản 3 Điều 3 Thông tư 26/2018/TT...  \n",
       "7  Căn cứ theo khoản 4 Điều 17 Thông tư 26/2018/T...  \n",
       "8  Căn cứ theo Điều 10 Luật Thống kê 2015 thì các...  \n",
       "9  Ngày 19/06/2025, Bộ trưởng Bộ Nông nghiệp và M...  "
      ]
     },
     "execution_count": 2,
     "metadata": {},
     "output_type": "execute_result"
    }
   ],
   "source": [
    "df = pd.read_csv(\"../data/raw/qa-tien-te-ngan-hang.csv\")\n",
    "df.head(10)"
   ]
  }
 ],
 "metadata": {
  "kernelspec": {
   "display_name": ".venv",
   "language": "python",
   "name": "python3"
  },
  "language_info": {
   "codemirror_mode": {
    "name": "ipython",
    "version": 3
   },
   "file_extension": ".py",
   "mimetype": "text/x-python",
   "name": "python",
   "nbconvert_exporter": "python",
   "pygments_lexer": "ipython3",
   "version": "3.10.13"
  }
 },
 "nbformat": 4,
 "nbformat_minor": 2
}
