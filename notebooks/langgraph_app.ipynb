{
 "cells": [
  {
   "cell_type": "code",
   "execution_count": 1,
   "id": "a1e2a3bd",
   "metadata": {},
   "outputs": [
    {
     "name": "stderr",
     "output_type": "stream",
     "text": [
      "/Users/huynhanhkiet/Desktop/Fine-tune-LegalVN/.venv/lib/python3.10/site-packages/tqdm/auto.py:21: TqdmWarning: IProgress not found. Please update jupyter and ipywidgets. See https://ipywidgets.readthedocs.io/en/stable/user_install.html\n",
      "  from .autonotebook import tqdm as notebook_tqdm\n"
     ]
    }
   ],
   "source": [
    "import pandas as pd\n",
    "import numpy as np\n",
    "from sentence_transformers import SentenceTransformer\n",
    "from fastembed import SparseTextEmbedding\n",
    "from fastembed.rerank.cross_encoder import TextCrossEncoder\n",
    "from qdrant_client import QdrantClient\n",
    "from qdrant_client.models import (\n",
    "    models,\n",
    "    Distance, \n",
    "    VectorParams, \n",
    "    PointStruct,\n",
    "    CreateCollection,\n",
    "    FieldCondition,\n",
    "    MatchValue,\n",
    "    Filter, Datatype, HnswConfigDiff, SparseVectorParams,\n",
    ")\n",
    "import uuid\n",
    "import tqdm\n",
    "from datetime import datetime\n",
    "from typing import List, Dict, Tuple, Optional\n",
    "\n",
    "# LangChain imports for LLM integration\n",
    "from langchain_ollama import ChatOllama\n",
    "from langchain.prompts import PromptTemplate\n",
    "from langchain_core.output_parsers import StrOutputParser\n",
    "from langchain.schema import Document\n",
    "from langchain.chains import LLMChain\n",
    "from langchain_core.runnables import RunnablePassthrough"
   ]
  },
  {
   "cell_type": "code",
   "execution_count": 2,
   "id": "a02c7a45",
   "metadata": {},
   "outputs": [],
   "source": [
    "from langchain_core.tools import tool\n",
    "\n",
    "# @tool\n",
    "def retrieve_and_rerank(\n",
    "        query: str, \n",
    "        top_k: int = 20, \n",
    "        rerank_top_k: int = 10,\n",
    "        fusion_method: str = \"RRF\"\n",
    "    ) -> List[Dict]:\n",
    "        \"\"\"\n",
    "        Perform hybrid retrieval (dense + sparse) followed by reranking.\n",
    "        \n",
    "        Args:\n",
    "            query: The search query\n",
    "            top_k: Number of documents to retrieve initially\n",
    "            rerank_top_k: Number of documents to rerank\n",
    "            fusion_method: Fusion method for combining dense and sparse results (\"RRF\" for Reciprocal Rank Fusion)\n",
    "            \n",
    "        Returns:\n",
    "            List of dictionaries containing document information and scores\n",
    "        \"\"\"\n",
    "        \n",
    "        # Generate query embeddings\n",
    "        dense_vector_query = dense_embedding_model.encode(query)\n",
    "        bm25_vector_query = sparse_embedding_model.embed(query)\n",
    "        bm25_query_vector = list(bm25_vector_query)[0]\n",
    "        \n",
    "        # Perform hybrid search\n",
    "        search_result = client.query_points(\n",
    "            collection_name=collection_name,\n",
    "            query=models.FusionQuery(\n",
    "                fusion=models.Fusion.RRF if fusion_method == \"RRF\" else models.Fusion.DBSF\n",
    "            ),\n",
    "            prefetch=[\n",
    "                models.Prefetch(\n",
    "                    query=dense_vector_query,\n",
    "                    using=\"dense\",\n",
    "                    limit=top_k\n",
    "                ),\n",
    "                models.Prefetch(\n",
    "                    query=bm25_query_vector.as_object(),\n",
    "                    using=\"bm25\",\n",
    "                    limit=top_k\n",
    "                ),\n",
    "            ],\n",
    "            with_payload=True,\n",
    "            with_vectors=True,\n",
    "            limit=top_k\n",
    "        ).points\n",
    "        \n",
    "        # Extract document texts for reranking\n",
    "        initial_hits = [hit.payload[\"raw_context\"] for hit in search_result[:rerank_top_k]]\n",
    "        \n",
    "        if not initial_hits:\n",
    "            logger.warning(\"No documents found for reranking\")\n",
    "            return []\n",
    "        \n",
    "        # Perform reranking\n",
    "        new_scores = list(rerank_model.rerank(query, initial_hits))\n",
    "        \n",
    "        # Create ranking with original indices\n",
    "        ranking = list(enumerate(new_scores))\n",
    "        ranking.sort(key=lambda x: x[1], reverse=True)\n",
    "        \n",
    "        # Prepare results\n",
    "        results = []\n",
    "        for rank, (original_idx, rerank_score) in enumerate(ranking, 1):\n",
    "            original_hit = search_result[original_idx]\n",
    "            results.append({\n",
    "                \"rank\": rank,\n",
    "                \"id\": original_hit.id,\n",
    "                \"document\": original_hit.payload[\"raw_context\"],\n",
    "                \"rerank_score\": rerank_score,\n",
    "                \"original_score\": original_hit.score if hasattr(original_hit, 'score') else None,\n",
    "                \"create_at\": original_hit.payload.get(\"create_at\", \"N/A\")\n",
    "            })\n",
    "        return results"
   ]
  },
  {
   "cell_type": "code",
   "execution_count": 3,
   "id": "b486ef6c",
   "metadata": {},
   "outputs": [],
   "source": [
    "collection_name = \"thue-phi-le-phi_all-MiniLM-L6-v2\"\n",
    "\n",
    "# Initialize Qdrant client\n",
    "client = QdrantClient(\n",
    "    host=\"localhost\", \n",
    "    port=6333, \n",
    "    timeout=600.0\n",
    ")"
   ]
  },
  {
   "cell_type": "code",
   "execution_count": 4,
   "id": "e35fc9fb",
   "metadata": {},
   "outputs": [],
   "source": [
    "# retriever = retrieve_and_rerank_simple(query=\"Thuế thu nhập cá nhân là gì?\",\n",
    "#                                     top_k=10, rerank_top_k=5)"
   ]
  },
  {
   "cell_type": "code",
   "execution_count": 5,
   "id": "2a03ea1f",
   "metadata": {},
   "outputs": [
    {
     "name": "stdout",
     "output_type": "stream",
     "text": [
      "NAME                       ID              SIZE      MODIFIED     \n",
      "llama3.1:8b                46e0c10c039e    4.9 GB    8 days ago      \n",
      "gemma3:1b                  8648f39daa8f    815 MB    11 days ago     \n",
      "gemma3:270m                e7d36fb2c3b3    291 MB    11 days ago     \n",
      "nomic-embed-text:latest    0a109f422b47    274 MB    2 months ago    \n"
     ]
    }
   ],
   "source": [
    "!ollama list"
   ]
  },
  {
   "cell_type": "code",
   "execution_count": 6,
   "id": "67a8ddcf",
   "metadata": {},
   "outputs": [],
   "source": [
    "dense_model_name = \"sentence-transformers/all-MiniLM-L6-v2\"\n",
    "sparse_model_name = \"Qdrant/bm25\"\n",
    "rerank_model_name = \"jinaai/jina-reranker-v2-base-multilingual\"\n",
    "llm_model_name = \"llama3.1:8b\""
   ]
  },
  {
   "cell_type": "code",
   "execution_count": 7,
   "id": "e266703a",
   "metadata": {},
   "outputs": [],
   "source": [
    "dense_embedding_model = SentenceTransformer(dense_model_name)\n",
    "sparse_embedding_model = SparseTextEmbedding(sparse_model_name)\n",
    "rerank_model = TextCrossEncoder(rerank_model_name)"
   ]
  },
  {
   "cell_type": "code",
   "execution_count": 8,
   "id": "1c2d7f82",
   "metadata": {},
   "outputs": [],
   "source": [
    "# Initialize LLM for answer generation\n",
    "llm = ChatOllama(\n",
    "    model=llm_model_name,\n",
    "    temperature=0.1,  # Low temperature for more consistent answers\n",
    ")"
   ]
  },
  {
   "cell_type": "code",
   "execution_count": 29,
   "id": "4dfa99d5",
   "metadata": {},
   "outputs": [],
   "source": [
    "from langchain_core.prompts import PromptTemplate\n",
    "from langchain_core.messages import HumanMessage, AIMessage\n",
    "\n",
    "# Initialize RAG prompt template\n",
    "SYSTEM_PROMPT = PromptTemplate.from_template(\"\"\"Bạn là một trợ lý AI chuyên về pháp luật Việt Nam, đặc biệt là về thuế phí và lệ phí. \n",
    "Hãy trả lời câu hỏi của người dùng dựa trên thông tin từ các văn bản pháp luật được truy xuất bên dưới.\n",
    "\n",
    "Hướng dẫn:\n",
    "1. Chỉ sử dụng thông tin từ các văn bản được truy xuất\n",
    "2. Trả lời bằng tiếng Việt một cách rõ ràng và dễ hiểu\n",
    "4. Luôn trích dẫn nguồn Tài liệu nào được truy xuất liên quan đến câu hỏi\n",
    "5. Nếu không bạn không biết câu trả lời, hãy nói \"Tôi không biết\" và nói rõ lý do\n",
    "\n",
    "Văn bản pháp luật được truy xuất:\n",
    "{context}\n",
    "\n",
    "Câu hỏi: {query}\n",
    "\n",
    "Trả lời:\"\"\")"
   ]
  },
  {
   "cell_type": "code",
   "execution_count": 20,
   "id": "04717786",
   "metadata": {},
   "outputs": [],
   "source": [
    "from typing import Annotated\n",
    "from typing_extensions import TypedDict\n",
    "from langgraph.graph import StateGraph, START, END\n",
    "from langgraph.graph.message import add_messages\n",
    "\n",
    "\n",
    "class State(TypedDict):\n",
    "    # messages: Annotated[List, \"The messages in the conversation\"]\n",
    "    query: Annotated[str, \"The current user query\"]\n",
    "    retrieved_docs: Annotated[List[Dict], \"Retrieved documents from RAG\"]\n",
    "    response: Annotated[str, \"The AI response\"]"
   ]
  },
  {
   "cell_type": "code",
   "execution_count": 21,
   "id": "33f8f730",
   "metadata": {},
   "outputs": [],
   "source": [
    "from qdrant_client import QdrantClient, models\n",
    "\n",
    "def retrieve_and_rerank(state: State):\n",
    "    \n",
    "    query = state[\"query\"][-1]\n",
    "    top_k=20\n",
    "    rerank_top_k=20\n",
    "    \n",
    "    # 1. Encode truy vấn\n",
    "    dense_q = dense_embedding_model.encode(query)\n",
    "    bm25_q = sparse_embedding_model.embed(query)\n",
    "    bm25_qv = list(bm25_q)[0]\n",
    "\n",
    "    # 2. Truy vấn BM25\n",
    "    res_sparse = client.query_points(\n",
    "        collection_name=collection_name,\n",
    "        query=models.SparseVector(**bm25_qv.as_object()),\n",
    "        limit=top_k,\n",
    "        using=\"bm25\",\n",
    "        with_payload=True\n",
    "    ).points\n",
    "\n",
    "    # 3. Truy vấn Dense\n",
    "    res_dense = client.query_points(\n",
    "        collection_name=collection_name,\n",
    "        query=dense_q,\n",
    "        limit=top_k,\n",
    "        using=\"dense\",\n",
    "        with_payload=True\n",
    "    ).points\n",
    "\n",
    "    # 4. Gộp candidate (loại trùng)\n",
    "    candidates = {p.id: p for p in res_sparse + res_dense}\n",
    "\n",
    "    # 5. Lấy nội dung để rerank\n",
    "    texts = [p.payload[\"raw_context\"] for p in list(candidates.values())[:rerank_top_k]]\n",
    "\n",
    "    if not texts:\n",
    "        return []\n",
    "\n",
    "    # 6. Reranking\n",
    "    rerank_scores = rerank_model.rerank(query, texts)\n",
    "\n",
    "    # 7. Sắp xếp kết quả mới\n",
    "    ordered = sorted(\n",
    "        zip(candidates.values(), rerank_scores),\n",
    "        key=lambda x: x[1],\n",
    "        reverse=True\n",
    "    )\n",
    "\n",
    "    # 8. Chuẩn bị kết quả\n",
    "    result_retrieved = [\n",
    "            {\n",
    "                \"id\": doc.id,\n",
    "                \"document\": doc.payload[\"raw_context\"],\n",
    "                \"rerank_score\": score,\n",
    "                \"source\": \"sparse\" if doc in res_sparse else \"dense\"\n",
    "            }\n",
    "            for doc, score in ordered[:rerank_top_k]\n",
    "        ]\n",
    "    retrieved_docs = \"\\n\\n\".join([f\"Tài liệu {i}:\\n{doc['document']}\\n\" \n",
    "                                for i, doc in enumerate(result_retrieved, 1)])\n",
    "    return {\"retrieved_docs\": result_retrieved}"
   ]
  },
  {
   "cell_type": "code",
   "execution_count": 30,
   "id": "aaf0e31e",
   "metadata": {},
   "outputs": [],
   "source": [
    "def generate_answer(state: State):\n",
    "    query = state[\"query\"][-1]\n",
    "    retrieved_docs = \"\\n\\n\".join([f\"Tài liệu {i}:\\n{doc['document']}\\n\" \n",
    "                                for i, doc in enumerate(state[\"retrieved_docs\"], 1)])\n",
    "    messages = SYSTEM_PROMPT.invoke({\"query\": query, \"context\": retrieved_docs})\n",
    "    # print(messages)\n",
    "    response = llm.invoke(messages)\n",
    "    \n",
    "    return {\"response\": response.content}\n",
    "\n",
    "# graph_builder.add_node(\"generate_answer\", generate_answer)"
   ]
  },
  {
   "cell_type": "code",
   "execution_count": 31,
   "id": "78133bfa",
   "metadata": {},
   "outputs": [],
   "source": [
    "# graph_builder.add_edge(START, \"generate_answer\")\n",
    "# graph_builder.add_edge(\"generate_answer\", END)\n",
    "# graph = graph_builder.compile()\n",
    "\n",
    "graph_builder = StateGraph(State).add_sequence([retrieve_and_rerank, generate_answer])\n",
    "graph_builder.add_edge(START, \"retrieve_and_rerank\")\n",
    "graph_builder.add_edge(\"generate_answer\", END)\n",
    "graph = graph_builder.compile()"
   ]
  },
  {
   "cell_type": "code",
   "execution_count": 32,
   "id": "210af0fd",
   "metadata": {},
   "outputs": [],
   "source": [
    "# response = graph.invoke({\"query\": \"Đối tượng nào không phải thực hiện quyết toán thuế thu nhập cá nhân?\"})\n",
    "# print(response[\"response\"])"
   ]
  },
  {
   "cell_type": "code",
   "execution_count": 33,
   "id": "e4f63656",
   "metadata": {},
   "outputs": [
    {
     "data": {
      "image/png": "[encoded data removed]",
      "text/plain": [
       "<IPython.core.display.Image object>"
      ]
     },
     "metadata": {},
     "output_type": "display_data"
    }
   ],
   "source": [
    "from IPython.display import Image, display\n",
    "\n",
    "try:\n",
    "    display(Image(graph.get_graph().draw_mermaid_png()))\n",
    "except Exception:\n",
    "    # This requires some extra dependencies and is optional\n",
    "    pass"
   ]
  },
  {
   "cell_type": "code",
   "execution_count": 36,
   "id": "4217458c",
   "metadata": {},
   "outputs": [
    {
     "data": {
      "text/plain": [
       "{'retrieved_docs': [{'id': 'ba13bfca-516b-45f1-8f15-18a552d301fb',\n",
       "   'document': 'Có thế giải thích quyết toán thuế TNCN là việc xác định số tiền thuế thu nhập cá nhân phải nộp của năm tính thuế. Việc này được thực hiện thông qua việc kê khai các khoản thu nhập, các khoản khấu trừ và các khoản thuế đã nộp.',\n",
       "   'rerank_score': -0.7976019978523254,\n",
       "   'source': 'dense'},\n",
       "  {'id': '576161f8-fcf0-409f-90b5-743429a68b12',\n",
       "   'document': 'Tại Điều 8 Luật Thuế giá trị gia tăng 2024 quy định thời điểm xác định thuế giá trị gia tăng đối với hàng hóa là thời điểm chuyển giao quyền sở hữu hoặc quyền sử dụng hàng hóa cho người mua hoặc thời điểm lập hóa đơn, không phân biệt đã thu được tiền hay chưa thu được tiền. Thời điểm xác định thuế giá trị gia tăng đối với hàng hóa xuất khẩu, hàng hóa nhập khẩu do Chính phủ quy định.',\n",
       "   'rerank_score': -1.2667887210845947,\n",
       "   'source': 'dense'},\n",
       "  {'id': '732f26f0-8885-4857-bd9f-bf24f2e45768',\n",
       "   'document': 'Dựa vào Điều 17. Căn cứ tính thuế\\nCăn cứ tính thuế thu nhập từ chuyển nhượng bất động sản là thu nhập tính thuế và thuế suất.\\nThu nhập tính thuế bằng (=) thu nhập chịu thuế trừ (-) các khoản lỗ của hoạt động chuyển nhượng bất động sản của các năm trước (nếu có).\\n1. Thu nhập chịu thuế.\\nThu nhập chịu thuế từ chuyển nhượng bất động sản được xác định bằng doanh thu thu được từ hoạt động chuyển nhượng bất động sản trừ giá vốn của bất động sản và các khoản chi phí được trừ liên quan đến hoạt động chuyển nhượng bất động sản.\\na) Doanh thu từ hoạt động chuyển nhượng bất động sản.\\na.1) Doanh thu từ hoạt động chuyển nhượng bất động sản được xác định theo giá thực tế chuyển nhượng bất động sản theo hợp đồng chuyển nhượng, mua bán bất động sản phù hợp với quy định của pháp luật (bao gồm cả các khoản phụ thu và phí thu thêm nếu có).\\n....\\nCăn cứ tại Điều 17 Thông tư 78/2014/TT-BTC quy định về căn cứ tính thuế cụ thể như sau:\\nThông qua quy trên, thu nhập tính thuế thu nhập doanh nghiệp từ chuyển nhượng bất động sản được thực hiện theo công thức dưới đây:\\nThu nhập tính thuế bằng = Thu nhập chịu thuế - Các khoản lỗ của hoạt động chuyển nhượng bất động sản của các năm trước (nếu có).\\n*Trong đó: Thu nhập chịu thuế từ chuyển nhượng bất động sản được xác định bằng doanh thu thu được từ hoạt động chuyển nhượng bất động sản trừ giá vốn của bất động sản và các khoản chi phí được trừ liên quan đến hoạt động chuyển nhượng bất động sản.',\n",
       "   'rerank_score': -1.5998599529266357,\n",
       "   'source': 'dense'},\n",
       "  {'id': '106d5edc-7c4c-4c61-950c-4056ffe4f981',\n",
       "   'document': 'Bảng kê số thuế nhập khẩu phải nộp là mẫu số 23/NLNK-PTQ/GSQL quy định tại Phụ lục 5 ban hành kèm theo Thông tư 39/2018/TT-BTC. Mẫu Bảng kê số thuế nhập khẩu phải nộp theo Thông tư 39 như sau:',\n",
       "   'rerank_score': -1.6290647983551025,\n",
       "   'source': 'dense'},\n",
       "  {'id': 'cf7f4863-183d-4c65-9965-d3c39434cce1',\n",
       "   'document': 'Theo khoản 5 Điều 3 Nghị định 65/2013/NĐ-CP quy định thu nhập từ chuyển nhượng bất động sản gồm các khoản thu như sau:\\n- Thu nhập từ chuyển nhượng quyền sử dụng đất và tài sản gắn liền với đất, kể cả công trình xây dựng hình thành trong tương lai;\\n- Thu nhập từ chuyển nhượng quyền sở hữu hoặc sử dụng nhà ở, kể cả nhà ở hình thành trong tương lai;\\n- Thu nhập từ chuyển nhượng quyền thuê đất, quyền thuê mặt nước;\\n- Các khoản thu nhập khác nhận được từ chuyển nhượng bất động sản dưới mọi hình thức;\\nThu nhập chịu thuế tại khoản này bao gồm cả khoản thu nhập từ việc ủy quyền quản lý bất động sản mà người được ủy quyền có quyền chuyển nhượng bất động sản hoặc có quyền như người sở hữu bất động sản theo quy định của pháp luật.',\n",
       "   'rerank_score': -1.638016939163208,\n",
       "   'source': 'dense'},\n",
       "  {'id': '824d2d90-fd9f-4f9a-a873-b8aca071d6e0',\n",
       "   'document': 'Căn cứ điểm a khoản 3 Điều 19 Thông tư 80/2021/TT-BTC quy định thì người nộp thuế chi trả tiền công, tiền lương cho người lao động làm việc tại đơn vị phụ thuộc, địa điểm kinh doanh tại tỉnh khác với nơi có trụ sở chính, thực hiện khấu trừ thuế thu nhập cá nhân đối với thu nhập từ tiền công, tiền lương theo quy định và phải nộp tờ khai thuế thu nhập cá nhân.\\nĐối với mẫu Phụ lục bảng xác định số thuế thu nhập cá nhân phải nộp cho các địa phương được hưởng nguồn thu:\\nTrân trọng!',\n",
       "   'rerank_score': -1.6438136100769043,\n",
       "   'source': 'dense'},\n",
       "  {'id': '22fdaf4a-13b4-4373-9571-8b59f0fbb3ca',\n",
       "   'document': 'Tại khoản 1 Điều 5 Nghị định 123/2020/NĐ-CP quy định ành vi bị cấm trong lĩnh vực hóa đơn, chứng từ đối với công chức thuế gồm:\\n- Gây phiền hà, khó khăn cho tổ chức, cá nhân đến mua hóa đơn, chứng từ;\\n- Có hành vi bao che, thông đồng cho tổ chức, cá nhân để sử dụng hóa đơn, chứng từ không hợp pháp;\\n- Nhận hối lộ khi thanh tra, kiểm tra về hóa đơn.',\n",
       "   'rerank_score': -1.6595110893249512,\n",
       "   'source': 'dense'},\n",
       "  {'id': 'c5335ac6-5407-43ed-ac76-5c35c0b8d40c',\n",
       "   'document': 'Tại Mẫu 02-1/BK-QTT-TNCN ban hành kèm theo Thông tư 80/2021/TT-BTC có quy định mẫu bảng kê giảm trừ gia cảnh cho người phụ thuộc như sau:\\nXem chi tiết mẫu bảng kê giảm trừ gia cảnh cho người phụ thuộc ban hành kèm theo Thông tư 80/2021/TT-BTC tại đây.',\n",
       "   'rerank_score': -1.7050611972808838,\n",
       "   'source': 'dense'},\n",
       "  {'id': '1a250385-e7d1-4fba-aa38-bc25b6a9fb09',\n",
       "   'document': 'Mẫu 15c báo cáo quyết toán tình hình nhập khẩu sản phẩm gia công tại nước ngoài hoặc tại DNCX quy định tại Phụ lục 5 ban hành kèm theo Thông tư 39/2018/TT-BTC.\\nMẫu 15c báo cáo quyết toán tình hình nhập khẩu sản phẩm gia công tại nước ngoài hoặc tại DNCX như sau:',\n",
       "   'rerank_score': -1.7204656600952148,\n",
       "   'source': 'dense'},\n",
       "  {'id': '44c25023-0778-4709-a96c-9bfe1c05e38d',\n",
       "   'document': 'Mẫu tờ khai hàng hóa xuất khẩu là mẫu HQ/2015/XK được quy định tại Phụ lục 4 ban hành kèm theo Thông tư 38/2015/TT-BTC , mẫu có dạng như sau:',\n",
       "   'rerank_score': -1.728104829788208,\n",
       "   'source': 'dense'},\n",
       "  {'id': '49bcec0e-4ce3-4c33-856d-569b547149ec',\n",
       "   'document': 'Tại mẫu HQ/2015/NK Phụ lục 4 ban hành kèm theo Thông tư 38/2015/TT-BTC có quy định mẫu tờ khai hải quan hàng hóa nhập khẩu tại đây.\\nHướng dẫn cách ghi tờ khai hải quan hàng hóa nhập khẩu như sau:',\n",
       "   'rerank_score': -1.8354878425598145,\n",
       "   'source': 'dense'},\n",
       "  {'id': 'bb303538-f098-4c81-9ed2-04f8291adc12',\n",
       "   'document': 'Căn cứ Điều 3 Luật Thuế thu nhập doanh nghiệp 2025 quy định thu nhập chịu thuế TNDN bao gồm thu nhập từ hoạt động sản xuất, kinh doanh hàng hóa, dịch vụ và thu nhập khác. Cụ thể như sau:\\n[1] Thu nhập từ chuyển nhượng vốn, chuyển nhượng quyền góp vốn, chuyển nhượng chứng khoán;\\n[2] Thu nhập từ chuyển nhượng bất động sản, trừ thu nhập từ chuyển nhượng bất động sản của doanh nghiệp kinh doanh bất động sản;\\n[3] Thu nhập từ chuyển nhượng dự án đầu tư, chuyển nhượng quyền tham gia dự án đầu tư, chuyển nhượng quyền thăm dò, khai thác, chế biến khoáng sản;\\n[4] Thu nhập từ chuyển nhượng, cho thuê, thanh lý tài sản, trong đó có các loại giấy tờ có giá, trừ bất động sản;\\n[5] Thu nhập từ quyền sử dụng, quyền sở hữu tài sản, bao gồm cả thu nhập từ quyền sở hữu trí tuệ, chuyển giao công nghệ;\\n[6] Thu nhập từ lãi tiền gửi, lãi cho vay vốn, bán ngoại tệ, trừ thu nhập từ hoạt động tín dụng của tổ chức tín dụng;\\n[7] Khoản trích trước vào chi phí nhưng không sử dụng hoặc sử dụng không hết mà doanh nghiệp không hạch toán điều chỉnh giảm chi phí được trừ; khoản nợ khó đòi đã xóa nay đòi được; khoản nợ phải trả không xác định được chủ nợ; khoản thu nhập từ kinh doanh của những năm trước bị bỏ sót nay phát hiện ra;\\n[8] Chênh lệch giữa thu về tiền phạt, tiền bồi thường do vi phạm hợp đồng kinh tế hoặc thưởng do thực hiện tốt cam kết theo hợp đồng;\\n[9] Các khoản tài trợ, tặng cho bằng tiền hoặc hiện vật nhận được;\\n[10] Chênh lệch do đánh giá lại tài sản theo quy định của pháp luật để góp vốn, điều chuyển khi sáp nhập, hợp nhất, chia, tách, chuyển đổi chủ sở hữu, chuyển đổi loại hình doanh nghiệp;\\n[11] Thu nhập từ hợp đồng hợp tác kinh doanh;\\n[12] Thu nhập từ hoạt động sản xuất, kinh doanh ở nước ngoài;\\n[13] Thu nhập của đơn vị sự nghiệp công lập đối với các hoạt động cho thuê tài sản công;\\n[14] Các khoản thu nhập khác, trừ các khoản thu nhập được miễn thuế\\nLưu ý:\\n- Thu nhập chịu thuế phát sinh tại Việt Nam của doanh nghiệp nước ngoài sau là thu nhập nhận được có nguồn gốc từ Việt Nam, không phụ thuộc vào địa điểm tiến hành kinh doanh:\\n+ Doanh nghiệp nước ngoài có cơ sở thường trú tại Việt Nam nộp thuế đối với thu nhập chịu thuế phát sinh tại Việt Nam mà khoản thu nhập này không liên quan đến hoạt động của cơ sở thường trú\\n+ Doanh nghiệp nước ngoài không có cơ sở thường trú tại Việt Nam, bao gồm cả các doanh nghiệp kinh doanh thương mại điện tử, kinh doanh dựa trên nền tảng số, nộp thuế đối với thu nhập chịu thuế phát sinh tại Việt Nam.\\n- Doanh nghiệp Việt Nam đầu tư ở nước ngoài có phát sinh thu nhập từ hoạt động sản xuất, kinh doanh tại nước ngoài trong kỳ tính thuế được trừ số thuế thu nhập doanh nghiệp phải nộp theo quy định của nước tiếp nhận đầu tư vào số thuế thu nhập doanh nghiệp phải nộp ở Việt Nam, nhưng không được vượt quá số thuế thu nhập doanh nghiệp tính theo quy định của pháp luật về thuế thu nhập doanh nghiệp của Việt Nam.\\n- Doanh nghiệp phải nộp thuế thu nhập doanh nghiệp bổ sung về tổng hợp thu nhập chịu thuế tối thiểu (IIR) theo quy định của pháp luật thì thuế thu nhập doanh nghiệp bổ sung phải nộp được trừ vào số thuế thu nhập doanh nghiệp phải nộp tại Việt Nam theo quy định',\n",
       "   'rerank_score': -1.918581247329712,\n",
       "   'source': 'dense'},\n",
       "  {'id': '7e7199b3-36e6-4925-b95b-adf90de54067',\n",
       "   'document': 'Căn cứ theo khoản 3 Điều 3 Quyết định 904/QĐ-BTC năm 2025 quy định trách nhiệm của Cục trưởng Cục Thuế gồm:\\n- Bố trí phòng tham mưu, Đội Thuế cấp huyện thuộc các Chi cục Thuế khu vực bảo đảm theo số lượng quy định tại Phụ lục kèm theo Quyết định này;\\n- Quyết định tên gọi, trụ sở, địa bàn quản lý của các Đội Thuế cấp huyện;\\n- Quy định chức năng, nhiệm vụ, quyền hạn của các đơn vị thuộc Chi cục Thuế khu vực.',\n",
       "   'rerank_score': -1.9212672710418701,\n",
       "   'source': 'dense'},\n",
       "  {'id': 'bd35f6a1-1a93-4a80-8775-adfeb6082254',\n",
       "   'document': 'Dựa vào Điều 3. Thu nhập chịu thuế\\n1. Thu nhập chịu thuế thu nhập doanh nghiệp bao gồm thu nhập từ hoạt động sản xuất, kinh doanh hàng hóa, dịch vụ và thu nhập khác quy định tại khoản 2 Điều này.\\n2. Thu nhập khác bao gồm:\\na) Thu nhập từ chuyển nhượng vốn, chuyển nhượng quyền góp vốn, chuyển nhượng chứng khoán;\\nb) Thu nhập từ chuyển nhượng bất động sản, trừ thu nhập từ chuyển nhượng bất động sản của doanh nghiệp kinh doanh bất động sản;\\nc) Thu nhập từ chuyển nhượng dự án đầu tư, chuyển nhượng quyền tham gia dự án đầu tư, chuyển nhượng quyền thăm dò, khai thác, chế biến khoáng sản;\\n[...]\\nCăn cứ theo Điều 3 Luật Thuế thu nhập doanh nghiệp 2025 quy định về thu nhập chịu thuế như sau:\\nNhư vậy, thu nhập từ chuyển nhượng chứng khoán là một trong số các thu nhập phải chịu thuế thu nhập doanh nghiệp.',\n",
       "   'rerank_score': -1.9337352514266968,\n",
       "   'source': 'dense'},\n",
       "  {'id': 'a0e48462-f726-421c-a8d5-1ee616766405',\n",
       "   'document': 'Căn cứ theo khoản 5 Điều 3 Luật Thuế thu nhập cá nhân 2007 có quy định, các khoản thu nhập từ chuyển nhượng bất động sản phải chịu thuế TNCN bao gồm:\\n- Thu nhập từ chuyển nhượng quyền sử dụng đất và tài sản gắn liền với đất.\\n- Thu nhập từ chuyển nhượng quyền sở hữu hoặc sử dụng nhà ở.\\n- Thu nhập từ chuyển nhượng quyền thuê đất, thuê mặt nước.\\n- Các khoản thu nhập khác nhận được từ chuyển nhượng bất động sản.\\nTuy nhiên, theo Điều 4 Luật Thuế thu nhập cá nhân 2007 bổ sung bởi khoản 3 Điều 2 Luật Sửa đổi, bổ sung một số Điều của các Luật về thuế sửa đổi 2014, đối với một số thu nhập từ chuyển nhượng bất động sản thuộc các trường hợp dưới đây sẽ được miễn thuế TNCN như sau:\\n- Thu nhập từ chuyển nhượng bất động sản giữa vợ với chồng; cha đẻ, mẹ đẻ với con đẻ; cha nuôi, mẹ nuôi với con nuôi; cha chồng, mẹ chồng với con dâu; cha vợ, mẹ vợ với con rể; ông nội, bà nội với cháu nội; ông ngoại, bà ngoại với cháu ngoại; anh, chị, em ruột với nhau.\\n- Thu nhập từ chuyển nhượng nhà ở, quyền sử dụng đất ở và tài sản gắn liền với đất ở của cá nhân trong trường hợp cá nhân chỉ có một nhà ở, đất ở duy nhất.\\n- Thu nhập từ nhận thừa kế, quà tặng là bất động sản giữa vợ với chồng; cha đẻ, mẹ đẻ với con đẻ; cha nuôi, mẹ nuôi với con nuôi; cha chồng, mẹ chồng với con dâu; cha vợ, mẹ vợ với con rể; ông nội, bà nội với cháu nội; ông ngoại, bà ngoại với cháu ngoại; anh, chị, em ruột với nhau.',\n",
       "   'rerank_score': -1.9389879703521729,\n",
       "   'source': 'dense'},\n",
       "  {'id': 'e11da4cb-1cfe-4258-b9c7-980e0e777f9d',\n",
       "   'document': 'Dựa vào Thẩm quyền cấp, điều chỉnh và thu hồi Giấy chứng nhận đăng ký đầu tư\\n1. Ban Quản lý khu công nghiệp, khu chế xuất, khu công nghệ cao, khu kinh tế cấp, điều chỉnh, thu hồi Giấy chứng nhận đăng ký đầu tư đối với dự án đầu tư trong khu công nghiệp, khu chế xuất, khu công nghệ cao, khu kinh tế, trừ trường hợp quy định tại khoản 3 Điều này.\\n2. Sở Kế hoạch và Đầu tư cấp, điều chỉnh, thu hồi Giấy chứng nhận đăng ký đầu tư đối với dự án đầu tư ngoài khu công nghiệp, khu chế xuất, khu công nghệ cao, khu kinh tế, trừ trường hợp quy định tại khoản 3 Điều này.\\n....\\nCăn cứ Điều 39 Luật Đầu tư 2020 quy định về thẩm quyền cấp, điều chỉnh và thu hồi Giấy chứng nhận đăng ký đầu tư như sau:\\nNhư vậy, cơ quan có thẩm quyền cấp Giấy chứng nhận đăng ký đầu tư trong khu chế xuất như sau:\\n(1) Ban Quản lý khu chế xuất cấp Giấy chứng nhận đăng ký đầu tư đối với dự án đầu tư trong khu chế xuất trừ trường hợp quy định tại khoản 3 Điều 39 Luật Đầu tư 2020\\n(2) Sở Kế hoạch và Đầu tư cấp Giấy chứng nhận đăng ký đầu tư đối với dự án đầu tư ngoài khu chế xuất trừ trường hợp quy định tại khoản 3 Điều 39 Luật Đầu tư 2020\\n(3) Cơ quan đăng ký đầu tư nơi nhà đầu tư thực hiện dự án đầu tư, đặt hoặc dự kiến đặt văn phòng điều hành để thực hiện dự án đầu tư cấp Giấy chứng nhận đăng ký đầu tư đối với dự án đầu tư sau đây:\\n+ Dự án đầu tư thực hiện ở trong khu chế xuất;\\n+ Dự án đầu tư trong khu chế xuất nơi chưa thành lập Ban quản lý khu chế xuất hoặc không thuộc phạm vi quản lý của Ban quản lý khu chế xuất.\\n(4) Cơ quan tiếp nhận hồ sơ dự án đầu tư là cơ quan có thẩm quyền cấp Giấy chứng nhận đăng ký đầu tư, trừ trường hợp quy định tại Điều 34 và Điều 35 Luật Đầu tư 2020.\\nTrân trọng!',\n",
       "   'rerank_score': -1.966745138168335,\n",
       "   'source': 'dense'},\n",
       "  {'id': '40c36d84-79c4-42a3-a0a9-ab28e75f0a50',\n",
       "   'document': 'Dựa vào Điều 3. Đối tượng được gia hạn\\n1. Doanh nghiệp, tổ chức, hộ gia đình, hộ kinh doanh, cá nhân hoạt động sản xuất trong các ngành kinh tế sau:\\na) Nông nghiệp, lâm nghiệp và thủy sản;\\nb) Sản xuất, chế biến thực phẩm; dệt; sản xuất trang phục; sản xuất da và các sản phẩm có liên quan; chế biến gỗ và sản xuất sản phẩm từ gỗ, tre, nứa (trừ giường, tủ, bàn, ghế); sản xuất sản phẩm từ rơm, rạ và vật liệu tết bện; sản xuất giấy và sản phẩm từ giấy; sản xuất sản phẩm từ cao su và plastic; sản xuất sản phẩm từ khoáng phi kim loại khác; sản xuất kim loại; gia công cơ khí; xử lý và tráng phủ kim loại; sản xuất sản phẩm điện tử, máy vi tính và sản phẩm quang học; sản xuất ô tô và xe có động cơ khác; sản xuất giường, tủ, bàn, ghế;\\nc) Xây dựng;\\nd) Hoạt động xuất bản; hoạt động điện ảnh, sản xuất chương trình truyền hình, ghi âm và xuất bản âm nhạc;\\nđ) Khai thác dầu thô và khí đốt tự nhiên (không gia hạn đối với thuế thu nhập doanh nghiệp của dầu thô, condensate, khí thiên nhiên thu theo hiệp định, hợp đồng);\\ne) Sản xuất đồ uống; in, sao chép bản ghi các loại; sản xuất than cốc, sản phẩm dầu mỏ tinh chế; sản xuất hóa chất và sản phẩm hóa chất; sản xuất sản phẩm từ kim loại đúc sẵn (trừ máy móc, thiết bị); sản xuất mô tô, xe máy; sửa chữa, bảo dưỡng và lắp đặt máy móc và thiết bị;\\ng) Thoát nước và xử lý nước thải.\\n[...]\\nCăn cứ theo điểm d khoản 1 Điều 3 Nghị định 64/2024/NĐ-CP có quy định về đối tượng được gia hạn nộp thuế 2024 như sau:\\nNhư vậy, doanh nghiệp hoạt động điện ảnh sản xuất chương trình truyền hình sẽ thuộc trường hợp được gia hạn nộp thuế GTGT năm 2024 theo quy định của pháp luật.',\n",
       "   'rerank_score': -2.0316085815429688,\n",
       "   'source': 'dense'},\n",
       "  {'id': 'b4d0377a-8c36-4192-bced-9be1d1b21beb',\n",
       "   'document': 'Căn cứ tại Điều 3 Luật Thuế thu nhập doanh nghiệp 2008 sửa đổi bởi khoản 1 Điều 1 Luật Sửa đổi, bổ sung một số Điều của các Luật về thuế 2014 quy định thu nhập chịu thuế TNDN gồm có:\\n- Thu nhập chịu thuế bao gồm thu nhập từ hoạt động sản xuất, kinh doanh hàng hóa, dịch vụ và thu nhập khác.\\n- Thu nhập khác bao gồm: thu nhập từ chuyển nhượng vốn, chuyển nhượng quyền góp vốn; thu nhập từ chuyển nhượng bất động sản, chuyển nhượng dự án đầu tư, chuyển nhượng quyền tham gia dự án đầu tư, chuyển nhượng quyền thăm dò, khai thác, chế biến khoáng sản; thu nhập từ quyền sử dụng tài sản, quyền sở hữu tài sản, kể cả thu nhập từ quyền sở hữu trí tuệ theo quy định của pháp luật; thu nhập từ chuyển nhượng, cho thuê, thanh lý tài sản, trong đó có các loại giấy tờ có giá; thu nhập từ lãi tiền gửi, cho vay vốn, bán ngoại tệ; khoản thu từ nợ khó đòi đã xoá nay đòi được; khoản thu từ nợ phải trả không xác định được chủ; khoản thu nhập từ kinh doanh của những năm trước bị bỏ sót và các khoản thu nhập khác.\\nDoanh nghiệp Việt Nam đầu tư ở nước ngoài chuyển phần thu nhập sau khi đã nộp thuế thu nhập doanh nghiệp ở nước ngoài của doanh nghiệp về Việt Nam thì đối với các nước mà Việt Nam đã ký Hiệp định tránh đánh thuế hai lần thì thực hiện theo quy định của Hiệp định; đối với các nước mà Việt Nam chưa ký Hiệp định tránh đánh thuế hai lần thì trường hợp thuế thu nhập doanh nghiệp ở các nước mà doanh nghiệp chuyển về có mức thuế suất thuế thu nhập doanh nghiệp thấp hơn thì thu phần chênh lệch so với số thuế thu nhập doanh nghiệp tính theo Luật Thuế thu nhập doanh nghiệp 2008 của Việt Nam',\n",
       "   'rerank_score': -2.22818660736084,\n",
       "   'source': 'dense'},\n",
       "  {'id': '975656e4-b2f7-4d22-911c-e2e0640695f6',\n",
       "   'document': 'Căn cứ theo khoản 3 Điều 9 Thông tư 219/2013/TT-BTC được sửa đổi bởi khoản 2 Điều 1 Thông tư 130/2016/TT-BTC quy định hàng hóa không áp dụng mức thuế suất thuế GTGT 0% bao gồm:\\n- Tái bảo hiểm ra nước ngoài; chuyển giao công nghệ, chuyển nhượng quyền sở hữu trí tuệ ra nước ngoài; chuyển nhượng vốn, cấp tín dụng, đầu tư chứng khoán ra nước ngoài; dịch vụ tài chính phái sinh; dịch vụ bưu chính, viễn thông chiều đi ra nước ngoài; sản phẩm xuất khẩu là tài nguyên, khoáng sản khai thác chưa chế biến thành sản phẩm khác; thuốc lá, rượu, bia nhập khẩu sau đó xuất khẩu; hàng hoá, dịch vụ cung cấp cho cá nhân không đăng ký kinh doanh trong khu phi thuế quan, trừ các trường hợp khác theo quy định của Thủ tướng Chính phủ.\\n- Thuốc lá, rượu, bia nhập khẩu sau đó xuất khẩu thì khi xuất khẩu không phải tính thuế GTGT đầu ra nhưng không được khấu trừ thuế GTGT đầu vào.\\n- Xăng, dầu bán cho xe ô tô của cơ sở kinh doanh trong khu phi thuế quan mua tại nội địa;\\n- Xe ô tô bán cho tổ chức, cá nhân trong khu phi thuế quan;\\n- Các dịch vụ do cơ sở kinh doanh cung cấp cho tổ chức, cá nhân ở trong khu phi thuế quan bao gồm: cho thuê nhà, hội trường, văn phòng, khách sạn, kho bãi; dịch vụ vận chuyển đưa đón người lao động; dịch vụ ăn uống (trừ dịch vụ cung cấp suất ăn công nghiệp, dịch vụ ăn uống trong khu phi thuế quan);\\n- Các dịch vụ sau cung ứng tại Việt Nam cho tổ chức, cá nhân ở nước ngoài không được áp dụng thuế suất 0% gồm:\\n+ Thi đấu thể thao, biểu diễn nghệ thuật, văn hóa, giải trí, hội nghị, khách sạn, đào tạo, quảng cáo, du lịch lữ hành;\\n+ Dịch vụ thanh toán qua mạng;\\n+ Dịch vụ cung cấp gắn với việc bán, phân phối, tiêu thụ sản phẩm, hàng hóa tại Việt Nam.\\nTrân trọng',\n",
       "   'rerank_score': -2.2604942321777344,\n",
       "   'source': 'dense'},\n",
       "  {'id': '10730632-33c7-4c90-8a32-4589e6b3846e',\n",
       "   'document': 'Dựa vào Xác định thu nhập tính thuế\\n1. Thu nhập tính thuế trong kỳ tính thuế được xác định bằng thu nhập chịu thuế trừ thu nhập được miễn thuế và các khoản lỗ được kết chuyển từ các năm trước.\\n2. Thu nhập chịu thuế bằng doanh thu trừ các khoản chi được trừ của hoạt động sản xuất, kinh doanh cộng thu nhập khác, kể cả thu nhập nhận được ở ngoài Việt Nam.\\n3. Thu nhập từ hoạt động chuyển nhượng bất động sản, chuyển nhượng dự án đầu tư, chuyển nhượng quyền tham gia dự án đầu tư, chuyển nhượng quyền thăm dò, khai thác, chế biến khoáng sản phải xác định riêng để kê khai nộp thuế. Thu nhập từ chuyển nhượng dự án đầu tư (trừ dự án thăm dò, khai thác khoáng sản), thu nhập từ chuyển nhượng quyền tham gia dự án đầu tư (trừ chuyển nhượng quyền tham gia dự án thăm dò, khai thác khoáng sản), thu nhập từ chuyển nhượng bất động sản nếu lỗ thì số lỗ này được bù trừ với lãi của hoạt động sản xuất, kinh doanh trong kỳ tính thuế\\nTheo quy định tại Điều 7 Luật Thuế thu nhập doanh nghiệp 2008 được sửa đổi, bổ sung bởi khoản 4 Điều 1 Luật Thuế thu nhập doanh nghiệp sửa đổi 2013 quy định về xác định thu nhập tính thuế như sau:\\nTheo đó, thu nhập tính thuế TNDN trong kỳ tính thuế được xác định như sau:\\nThu nhập tính thuế TNDN = Thu nhập chịu thuế - Thu nhập được miễn thuế - Các khoản lỗ được kết chuyển từ các năm trước.\\nThu nhập chịu thuế = Doanh thu - Khoản chi được trừ của hoạt động sản xuất kinh doanh + Thu nhập khác.\\n*Trong đó: Các khoản thu nhập phải xác định riêng để kê khai nộp thuế bao gồm:\\n- Thu nhập từ hoạt động chuyển nhượng bất động sản.\\n- Thu nhập từ chuyển nhượng dự án đầu tư.\\n- Thu nhập từ chuyển nhượng quyền tham gia dự án đầu tư.\\n- Thu nhập từ chuyển nhượng quyền thăm dò, khai thác, chế biến khoáng sản.\\nTrân trọng!',\n",
       "   'rerank_score': -2.4181883335113525,\n",
       "   'source': 'dense'}]}"
      ]
     },
     "execution_count": 36,
     "metadata": {},
     "output_type": "execute_result"
    }
   ],
   "source": [
    "retrieve_and_rerank(state={\"query\":\n",
    "                \"Thời điểm thực hiện khấu trừ, xác định số thuế phải khấu trừ theo Nghị định 117 ra sao?\"})"
   ]
  },
  {
   "cell_type": "code",
   "execution_count": 38,
   "id": "a5a71f46",
   "metadata": {},
   "outputs": [
    {
     "name": "stdout",
     "output_type": "stream",
     "text": [
      "Thu nhập tính thuế TNDN được xác định bằng thu nhập chịu thuế trừ thu nhập được miễn thuế và các khoản lỗ được kết chuyển từ các năm trước.\n",
      "\n",
      "Thu nhập chịu thuế bằng doanh thu trừ các khoản chi được trừ của hoạt động sản xuất, kinh doanh cộng thu nhập khác, kể cả thu nhập nhận được ở ngoài Việt Nam.\n",
      "\n",
      "Thu nhập từ hoạt động chuyển nhượng bất động sản, chuyển nhượng dự án đầu tư, chuyển nhượng quyền tham gia dự án đầu tư, chuyển nhượng quyền thăm dò, khai thác, chế biến khoáng sản phải xác định riêng để kê khai nộp thuế."
     ]
    }
   ],
   "source": [
    "inputs = {\"query\": \"Thời điểm thực hiện khấu trừ, xác định số thuế phải khấu trừ theo Nghị định 117 ra sao?\"}\n",
    "for message_chunk, metadata in graph.stream(inputs, stream_mode=\"messages\",):\n",
    "    if message_chunk.content:\n",
    "        print(message_chunk.content, end=\"\", flush=True)"
   ]
  },
  {
   "cell_type": "code",
   "execution_count": null,
   "metadata": {},
   "outputs": [],
   "source": []
  }
 ],
 "metadata": {
  "kernelspec": {
   "display_name": ".venv",
   "language": "python",
   "name": "python3"
  },
  "language_info": {
   "codemirror_mode": {
    "name": "ipython",
    "version": 3
   },
   "file_extension": ".py",
   "mimetype": "text/x-python",
   "name": "python",
   "nbconvert_exporter": "python",
   "pygments_lexer": "ipython3",
   "version": "3.10.13"
  }
 },
 "nbformat": 4,
 "nbformat_minor": 5
}
